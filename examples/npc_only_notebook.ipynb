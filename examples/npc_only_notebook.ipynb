{
 "cells": [
  {
   "cell_type": "markdown",
   "id": "06afc4c0-ed91-442e-8695-b94248063dd8",
   "metadata": {},
   "source": [
    "![https://raw.githubusercontent.com/inverted-ai/invertedai/master/docs/images/banner-small.png](https://raw.githubusercontent.com/inverted-ai/invertedai/master/docs/images/banner-small.png)"
   ]
  },
  {
   "cell_type": "code",
   "execution_count": 2,
   "id": "911445d4-8b61-49a1-9620-d1f3eb0c4199",
   "metadata": {},
   "outputs": [],
   "source": [
    "!pip install invertedai==0.0.3\n",
    "%matplotlib widget\n",
    "from IPython.display import clear_output\n",
    "from invertedai import Jupyter_Render\n",
    "import numpy as np\n",
    "import cv2\n",
    "import invertedai as iai\n",
    "clear_output()"
   ]
  },
  {
   "cell_type": "markdown",
   "id": "6fddfc6b",
   "metadata": {},
   "source": [
    "# Provide your API key"
   ]
  },
  {
   "cell_type": "code",
   "execution_count": 3,
   "id": "f6763c56",
   "metadata": {},
   "outputs": [],
   "source": [
    "iai.add_apikey(\"\")"
   ]
  },
  {
   "cell_type": "markdown",
   "id": "2c1fea24",
   "metadata": {},
   "source": [
    "# Specify the location"
   ]
  },
  {
   "cell_type": "code",
   "execution_count": 4,
   "id": "91217cc2",
   "metadata": {},
   "outputs": [],
   "source": [
    "location = \"canada:vancouver:ubc_roundabout\""
   ]
  },
  {
   "cell_type": "markdown",
   "id": "480b3e05",
   "metadata": {},
   "source": [
    " # Set the simulation length (milliseconds)"
   ]
  },
  {
   "cell_type": "code",
   "execution_count": 5,
   "id": "b468103b",
   "metadata": {},
   "outputs": [],
   "source": [
    "simulation_length = 30 "
   ]
  },
  {
   "cell_type": "markdown",
   "id": "9d6678da",
   "metadata": {},
   "source": [
    "# Initialize local renderer"
   ]
  },
  {
   "cell_type": "code",
   "execution_count": 6,
   "id": "069cf9cb-30eb-4378-b4f9-9cb7d9038620",
   "metadata": {},
   "outputs": [
    {
     "data": {
      "application/vnd.jupyter.widget-view+json": {
       "model_id": "2085f624193a4b45810b540938dbc2db",
       "version_major": 2,
       "version_minor": 0
      },
      "text/plain": [
       "Jupyter_Render(children=(HBox(children=(Play(value=0, description='Press play', max=0), IntSlider(value=0, des…"
      ]
     },
     "metadata": {},
     "output_type": "display_data"
    },
    {
     "data": {
      "application/vnd.jupyter.widget-view+json": {
       "model_id": "887e46a3c9734ca4b67846fa58d02aba",
       "version_major": 2,
       "version_minor": 0
      },
      "image/png": "[encoded data removed]",
      "text/html": [
       "\n",
       "            <div style=\"display: inline-block;\">\n",
       "                <div class=\"jupyter-widgets widget-label\" style=\"text-align: center;\">\n",
       "                    Figure\n",
       "                </div>\n",
       "                <img src='data:image/png;base64,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' width=500.0/>\n",
       "            </div>\n",
       "        "
      ],
      "text/plain": [
       "Canvas(toolbar=Toolbar(toolitems=[('Home', 'Reset original view', 'home', 'home'), ('Back', 'Back to previous …"
      ]
     },
     "metadata": {},
     "output_type": "display_data"
    }
   ],
   "source": [
    "renderer = Jupyter_Render()\n",
    "display(renderer)"
   ]
  },
  {
   "cell_type": "markdown",
   "id": "74158244",
   "metadata": {},
   "source": [
    "# Preview the map location"
   ]
  },
  {
   "cell_type": "code",
   "execution_count": 7,
   "id": "35d4a968",
   "metadata": {},
   "outputs": [],
   "source": [
    "rendered_map = iai.location_info(location=location).birdview_image.decode()\n",
    "renderer.add_frame(rendered_map)"
   ]
  },
  {
   "cell_type": "markdown",
   "id": "bd164f34",
   "metadata": {},
   "source": [
    "# Initialize the simulation"
   ]
  },
  {
   "cell_type": "code",
   "execution_count": 8,
   "id": "02e7c7cf",
   "metadata": {},
   "outputs": [],
   "source": [
    "simulation = iai.BasicCosimulation(\n",
    "    location=location,\n",
    "    agent_count=10,\n",
    "    get_birdview=True,\n",
    ")"
   ]
  },
  {
   "cell_type": "markdown",
   "id": "6a765365",
   "metadata": {},
   "source": [
    "# Start the simulation"
   ]
  },
  {
   "cell_type": "code",
   "execution_count": 9,
   "id": "94506da0-9a15-4dc0-9d57-5ac30bc36d72",
   "metadata": {},
   "outputs": [],
   "source": [
    "frames = []\n",
    "for t in range(simulation_length):\n",
    "    simulation.step(current_ego_agent_states=[])\n",
    "    birdview = simulation.birdview.decode()\n",
    "    renderer.add_frame(birdview)"
   ]
  },
  {
   "cell_type": "code",
   "execution_count": 10,
   "id": "cd7f84c7",
   "metadata": {},
   "outputs": [],
   "source": [
    "import numpy as np\n",
    "img = np.zeros((512, 512, 3), dtype=np.uint8)\n",
    "encode_param = [int(cv2.IMWRITE_JPEG_QUALITY), 80]\n",
    "_, encimg = cv2.imencode(\".jpg\", img.astype(np.uint8), encode_param)\n",
    "img = encimg.tolist()"
   ]
  },
  {
   "cell_type": "code",
   "execution_count": null,
   "id": "7fc2dd8d",
   "metadata": {},
   "outputs": [],
   "source": [
    "#print(img)"
   ]
  },
  {
   "cell_type": "code",
   "execution_count": null,
   "id": "7e322951",
   "metadata": {},
   "outputs": [],
   "source": []
  }
 ],
 "metadata": {
  "kernelspec": {
   "display_name": "Python 3 (ipykernel)",
   "language": "python",
   "name": "python3"
  },
  "language_info": {
   "codemirror_mode": {
    "name": "ipython",
    "version": 3
   },
   "file_extension": ".py",
   "mimetype": "text/x-python",
   "name": "python",
   "nbconvert_exporter": "python",
   "pygments_lexer": "ipython3",
   "version": "3.8.10"
  }
 },
 "nbformat": 4,
 "nbformat_minor": 5
}
