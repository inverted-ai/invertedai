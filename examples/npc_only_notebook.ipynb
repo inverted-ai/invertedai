{
 "cells": [
  {
   "cell_type": "markdown",
   "id": "06afc4c0-ed91-442e-8695-b94248063dd8",
   "metadata": {},
   "source": [
    "![https://raw.githubusercontent.com/inverted-ai/invertedai/master/docs/images/banner-small.png](https://raw.githubusercontent.com/inverted-ai/invertedai/master/docs/images/banner-small.png)"
   ]
  },
  {
   "cell_type": "code",
   "execution_count": 2,
   "id": "911445d4-8b61-49a1-9620-d1f3eb0c4199",
   "metadata": {},
   "outputs": [],
   "source": [
    "!pip install invertedai\n",
    "%matplotlib widget\n",
    "from IPython.display import clear_output\n",
    "from invertedai import Jupyter_Render\n",
    "import numpy as np\n",
    "import cv2\n",
    "import invertedai as iai\n",
    "clear_output()"
   ]
  },
  {
   "cell_type": "markdown",
   "id": "6fddfc6b",
   "metadata": {},
   "source": [
    "# Provide your API key"
   ]
  },
  {
   "cell_type": "code",
   "execution_count": 3,
   "id": "f6763c56",
   "metadata": {},
   "outputs": [],
   "source": [
    "iai.add_apikey(\"\")"
   ]
  },
  {
   "cell_type": "markdown",
   "id": "2c1fea24",
   "metadata": {},
   "source": [
    "# Setup\n",
    "\n",
    "Set up the simulation by specifying the location and simulation lenght ( (1 step = 0.1 second))"
   ]
  },
  {
   "cell_type": "code",
   "execution_count": 4,
   "id": "91217cc2",
   "metadata": {},
   "outputs": [],
   "source": [
    "location = \"canada:vancouver:drake_street_and_pacific_blvd\"\n",
    "# location = \"canada:vancouver:ubc_roundabout\"\n",
    "\n",
    "simulation_length = 30 "
   ]
  },
  {
   "cell_type": "markdown",
   "id": "9d6678da",
   "metadata": {},
   "source": [
    "# Initialize local renderer"
   ]
  },
  {
   "cell_type": "code",
   "execution_count": 5,
   "id": "069cf9cb-30eb-4378-b4f9-9cb7d9038620",
   "metadata": {},
   "outputs": [
    {
     "data": {
      "application/vnd.jupyter.widget-view+json": {
       "model_id": "6bf38b38a39f445f924da3162dfb5fab",
       "version_major": 2,
       "version_minor": 0
      },
      "text/plain": [
       "Jupyter_Render(children=(HBox(children=(Play(value=0, description='Press play', max=0), IntSlider(value=0, des…"
      ]
     },
     "metadata": {},
     "output_type": "display_data"
    },
    {
     "data": {
      "application/vnd.jupyter.widget-view+json": {
       "model_id": "880737e82d114429a95eb5506c393bc3",
       "version_major": 2,
       "version_minor": 0
      },
      "image/png": "[encoded data removed]",
      "text/html": [
       "\n",
       "            <div style=\"display: inline-block;\">\n",
       "                <div class=\"jupyter-widgets widget-label\" style=\"text-align: center;\">\n",
       "                    Figure\n",
       "                </div>\n",
       "                <img src='data:image/png;base64,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' width=500.0/>\n",
       "            </div>\n",
       "        "
      ],
      "text/plain": [
       "Canvas(toolbar=Toolbar(toolitems=[('Home', 'Reset original view', 'home', 'home'), ('Back', 'Back to previous …"
      ]
     },
     "metadata": {},
     "output_type": "display_data"
    }
   ],
   "source": [
    "renderer = Jupyter_Render()\n",
    "display(renderer)"
   ]
  },
  {
   "cell_type": "markdown",
   "id": "74158244",
   "metadata": {},
   "source": [
    "# Preview the map location"
   ]
  },
  {
   "cell_type": "code",
   "execution_count": 6,
   "id": "35d4a968",
   "metadata": {},
   "outputs": [],
   "source": [
    "location_info_response = iai.location_info(location=location)\n",
    "rendered_map = location_info_response.birdview_image.decode()\n",
    "renderer.add_frame(rendered_map)"
   ]
  },
  {
   "cell_type": "markdown",
   "id": "db69a449-5b98-43d7-ba08-6b1658ee452d",
   "metadata": {},
   "source": [
    "# Get Traffic-light states"
   ]
  },
  {
   "cell_type": "code",
   "execution_count": 7,
   "id": "8f868744-5f22-4db0-9e85-a41013486481",
   "metadata": {},
   "outputs": [],
   "source": [
    "if any(actor.agent_type == \"traffic-light\" for actor in location_info_response.static_actors):\n",
    "    scene_has_lights = True\n",
    "    light_response = iai.light(location=location)\n",
    "else:\n",
    "    light_response = None\n",
    "    scene_has_lights = False"
   ]
  },
  {
   "cell_type": "markdown",
   "id": "bd164f34",
   "metadata": {},
   "source": [
    "# Initialize the simulation"
   ]
  },
  {
   "cell_type": "code",
   "execution_count": 8,
   "id": "02e7c7cf",
   "metadata": {},
   "outputs": [],
   "source": [
    "response = iai.initialize(location, \n",
    "    traffic_light_state_history=[light_response.traffic_lights_states] if scene_has_lights else None,\n",
    "    get_birdview = True,                                                         \n",
    "    agent_count = 10,)\n",
    "agent_attributes = response.agent_attributes\n",
    "rendered_map = response.birdview.decode()\n",
    "renderer.add_frame(rendered_map)"
   ]
  },
  {
   "cell_type": "markdown",
   "id": "6a765365",
   "metadata": {},
   "source": [
    "# Start the simulation\n",
    "\\* Returning the birdviews will casue a much longer response time than running without them."
   ]
  },
  {
   "cell_type": "code",
   "execution_count": 8,
   "id": "94506da0-9a15-4dc0-9d57-5ac30bc36d72",
   "metadata": {},
   "outputs": [],
   "source": [
    "frames = []\n",
    "for t in range(simulation_length):\n",
    "    light_response = iai.light(location=location, recurrent_states=light_response.recurrent_states) if scene_has_lights else None\n",
    "    response = iai.drive(\n",
    "        agent_attributes=agent_attributes,\n",
    "        agent_states=response.agent_states,\n",
    "        recurrent_states=response.recurrent_states,\n",
    "        get_birdview=True,\n",
    "        location=location,\n",
    "        get_infractions=True,\n",
    "        traffic_lights_states=light_response.traffic_lights_states if scene_has_lights else None,\n",
    "    )\n",
    "    image = response.birdview.decode()\n",
    "    renderer.add_frame(image)"
   ]
  },
  {
   "cell_type": "code",
   "execution_count": 9,
   "id": "cd7f84c7",
   "metadata": {},
   "outputs": [],
   "source": [
    "import numpy as np\n",
    "img = np.zeros((512, 512, 3), dtype=np.uint8)\n",
    "encode_param = [int(cv2.IMWRITE_JPEG_QUALITY), 80]\n",
    "_, encimg = cv2.imencode(\".jpg\", img.astype(np.uint8), encode_param)\n",
    "img = encimg.tolist()"
   ]
  },
  {
   "cell_type": "code",
   "execution_count": null,
   "id": "7fc2dd8d",
   "metadata": {},
   "outputs": [],
   "source": [
    "#print(img)"
   ]
  },
  {
   "cell_type": "code",
   "execution_count": null,
   "id": "7e322951",
   "metadata": {},
   "outputs": [],
   "source": []
  }
 ],
 "metadata": {
  "kernelspec": {
   "display_name": "Python 3 (ipykernel)",
   "language": "python",
   "name": "python3"
  },
  "language_info": {
   "codemirror_mode": {
    "name": "ipython",
    "version": 3
   },
   "file_extension": ".py",
   "mimetype": "text/x-python",
   "name": "python",
   "nbconvert_exporter": "python",
   "pygments_lexer": "ipython3",
   "version": "3.8.10"
  }
 },
 "nbformat": 4,
 "nbformat_minor": 5
}
