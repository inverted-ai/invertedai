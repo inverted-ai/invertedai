{
 "cells": [
  {
   "cell_type": "markdown",
   "id": "5f5d6f84-22e8-4079-a0fc-7a7aaea4d511",
   "metadata": {},
   "source": [
    "![https://raw.githubusercontent.com/inverted-ai/invertedai/master/docs/images/banner-small.png](https://raw.githubusercontent.com/inverted-ai/invertedai/master/docs/images/banner-small.png)"
   ]
  },
  {
   "cell_type": "code",
   "execution_count": 20,
   "id": "911445d4-8b61-49a1-9620-d1f3eb0c4199",
   "metadata": {},
   "outputs": [],
   "source": [
    "!pip install invertedai\n",
    "import timeit"
   ]
  },
  {
   "cell_type": "markdown",
   "id": "993064b1",
   "metadata": {},
   "source": [
    "# Setup"
   ]
  },
  {
   "cell_type": "code",
   "execution_count": 25,
   "id": "28a99825",
   "metadata": {},
   "outputs": [],
   "source": [
    "apikey = \"\"\n",
    "location =  \"canada:vancouver:drake_street_and_pacific_blvd\"\n",
    "number_of_calls = 100\n",
    "\n",
    "setup=f'''\n",
    "import invertedai as iai\n",
    "iai.add_apikey(\"{apikey}\")\n",
    "location = \"{location}\"\n",
    "simulation_length = 100\n",
    "response = iai.initialize(location, agent_count = 10,)\n",
    "agent_attributes = response.agent_attributes\n",
    "'''\n",
    "drive_with_birdview='''\n",
    "iai.drive(location=location, agent_attributes=agent_attributes, agent_states=response.agent_states,recurrent_states=response.recurrent_states,get_birdview=True)\n",
    "'''\n",
    "drive_without_birdview='''\n",
    "iai.drive(location=location, agent_attributes=agent_attributes, agent_states=response.agent_states,recurrent_states=response.recurrent_states,get_birdview=False)\n",
    "'''"
   ]
  },
  {
   "cell_type": "markdown",
   "id": "d090457e-80f1-46cd-bcae-1fe3104b2b69",
   "metadata": {},
   "source": [
    "# Response time for DRIVE with and without birdviews"
   ]
  },
  {
   "cell_type": "code",
   "execution_count": 26,
   "id": "2ab8482c-7940-4cd3-a4cb-953961eea4dd",
   "metadata": {},
   "outputs": [
    {
     "name": "stdout",
     "output_type": "stream",
     "text": [
      "With birdview: 0.15 per API call \n",
      "Without birdview: 0.027 per API Call\n"
     ]
    }
   ],
   "source": [
    "with_birdview =  timeit.timeit(setup = setup, stmt = drive_with_birdview, number = number_of_calls)/number_of_calls\n",
    "without_birdview = timeit.timeit(setup = setup, stmt = drive_without_birdview, number = number_of_calls)/number_of_calls\n",
    "print(f\"With birdview: {with_birdview:.2} per API call \")\n",
    "print(f\"Without birdview: {without_birdview:.2} per API Call\")"
   ]
  },
  {
   "cell_type": "code",
   "execution_count": null,
   "id": "1ecfb4b5-a4ee-4d8e-902d-437212ec2f4d",
   "metadata": {},
   "outputs": [],
   "source": []
  }
 ],
 "metadata": {
  "kernelspec": {
   "display_name": "Python 3 (ipykernel)",
   "language": "python",
   "name": "python3"
  },
  "language_info": {
   "codemirror_mode": {
    "name": "ipython",
    "version": 3
   },
   "file_extension": ".py",
   "mimetype": "text/x-python",
   "name": "python",
   "nbconvert_exporter": "python",
   "pygments_lexer": "ipython3",
   "version": "3.8.10"
  }
 },
 "nbformat": 4,
 "nbformat_minor": 5
}
