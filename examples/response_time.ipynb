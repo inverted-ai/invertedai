{
 "cells": [
  {
   "cell_type": "markdown",
   "id": "5f5d6f84-22e8-4079-a0fc-7a7aaea4d511",
   "metadata": {
    "id": "5f5d6f84-22e8-4079-a0fc-7a7aaea4d511"
   },
   "source": [
    "![https://raw.githubusercontent.com/inverted-ai/invertedai/master/docs/images/banner-small.png](https://raw.githubusercontent.com/inverted-ai/invertedai/master/docs/images/banner-small.png)"
   ]
  },
  {
   "cell_type": "code",
   "execution_count": 1,
   "id": "911445d4-8b61-49a1-9620-d1f3eb0c4199",
   "metadata": {
    "id": "911445d4-8b61-49a1-9620-d1f3eb0c4199"
   },
   "outputs": [],
   "source": [
    "# Some stuff to get us going:\n",
    "!pip install invertedai\n",
    "from IPython.display import clear_output\n",
    "import timeit\n",
    "clear_output()"
   ]
  },
  {
   "cell_type": "markdown",
   "id": "993064b1",
   "metadata": {
    "id": "993064b1"
   },
   "source": [
    "# Setup"
   ]
  },
  {
   "cell_type": "code",
   "execution_count": 2,
   "id": "28a99825",
   "metadata": {
    "id": "28a99825"
   },
   "outputs": [],
   "source": [
    "apikey = \"\"\n",
    "location =  \"iai:drake_street_and_pacific_blvd\"\n",
    "number_of_calls = 100\n",
    "\n",
    "setup=f'''\n",
    "import invertedai as iai\n",
    "iai.add_apikey(\"{apikey}\")\n",
    "location = \"{location}\"\n",
    "simulation_length = 100\n",
    "response = iai.initialize(location, agent_count = 10,)\n",
    "agent_attributes = response.agent_attributes\n",
    "'''\n",
    "drive_with_birdview='''\n",
    "iai.drive(location=location, agent_attributes=agent_attributes, agent_states=response.agent_states,recurrent_states=response.recurrent_states,get_birdview=True)\n",
    "'''\n",
    "drive_without_birdview='''\n",
    "iai.drive(location=location, agent_attributes=agent_attributes, agent_states=response.agent_states,recurrent_states=response.recurrent_states,get_birdview=False)\n",
    "'''"
   ]
  },
  {
   "cell_type": "markdown",
   "id": "d090457e-80f1-46cd-bcae-1fe3104b2b69",
   "metadata": {
    "id": "d090457e-80f1-46cd-bcae-1fe3104b2b69"
   },
   "source": [
    "# Response time for DRIVE with and without birdviews"
   ]
  },
  {
   "cell_type": "code",
   "execution_count": 3,
   "id": "2ab8482c-7940-4cd3-a4cb-953961eea4dd",
   "metadata": {
    "colab": {
     "base_uri": "https://localhost:8080/"
    },
    "id": "2ab8482c-7940-4cd3-a4cb-953961eea4dd",
    "outputId": "3d1887dd-edaf-41a6-83a7-09d6108dd38e"
   },
   "outputs": [
    {
     "name": "stdout",
     "output_type": "stream",
     "text": [
      "With birdview: 0.56 per API call \n",
      "Without birdview: 0.4 per API Call\n"
     ]
    }
   ],
   "source": [
    "with_birdview =  timeit.timeit(setup = setup, stmt = drive_with_birdview, number = number_of_calls)/number_of_calls\n",
    "without_birdview = timeit.timeit(setup = setup, stmt = drive_without_birdview, number = number_of_calls)/number_of_calls\n",
    "print(f\"With birdview: {with_birdview:.2} per API call \")\n",
    "print(f\"Without birdview: {without_birdview:.2} per API Call\")"
   ]
  }
 ],
 "metadata": {
  "colab": {
   "provenance": []
  },
  "kernelspec": {
   "display_name": "Python 3 (ipykernel)",
   "language": "python",
   "name": "python3"
  },
  "language_info": {
   "codemirror_mode": {
    "name": "ipython",
    "version": 3
   },
   "file_extension": ".py",
   "mimetype": "text/x-python",
   "name": "python",
   "nbconvert_exporter": "python",
   "pygments_lexer": "ipython3",
   "version": "3.10.12"
  }
 },
 "nbformat": 4,
 "nbformat_minor": 5
}
