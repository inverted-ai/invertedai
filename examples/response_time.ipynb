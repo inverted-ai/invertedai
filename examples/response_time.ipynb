{
  "cells": [
    {
      "cell_type": "markdown",
      "id": "5f5d6f84-22e8-4079-a0fc-7a7aaea4d511",
      "metadata": {
        "id": "5f5d6f84-22e8-4079-a0fc-7a7aaea4d511"
      },
      "source": [
        "![https://raw.githubusercontent.com/inverted-ai/invertedai/master/docs/images/banner-small.png](https://raw.githubusercontent.com/inverted-ai/invertedai/master/docs/images/banner-small.png)"
      ]
    },
    {
      "cell_type": "code",
      "execution_count": 1,
      "id": "911445d4-8b61-49a1-9620-d1f3eb0c4199",
      "metadata": {
        "id": "911445d4-8b61-49a1-9620-d1f3eb0c4199",
        "colab": {
          "base_uri": "https://localhost:8080/"
        },
        "outputId": "1ab4df26-3aa2-4bcc-c50c-d02221f32963"
      },
      "outputs": [
        {
          "output_type": "stream",
          "name": "stdout",
          "text": [
            "Collecting invertedai\n",
            "  Downloading invertedai-0.0.8.post1-py3-none-any.whl (30 kB)\n",
            "Requirement already satisfied: matplotlib<4.0.0,>=3.6.2 in /usr/local/lib/python3.10/dist-packages (from invertedai) (3.7.1)\n",
            "Requirement already satisfied: pydantic<2.0.0,>=1.10.2 in /usr/local/lib/python3.10/dist-packages (from invertedai) (1.10.11)\n",
            "Collecting requests<3.0.0,>=2.28.1 (from invertedai)\n",
            "  Downloading requests-2.31.0-py3-none-any.whl (62 kB)\n",
            "\u001b[2K     \u001b[90m━━━━━━━━━━━━━━━━━━━━━━━━━━━━━━━━━━━━━━━━\u001b[0m \u001b[32m62.6/62.6 kB\u001b[0m \u001b[31m1.9 MB/s\u001b[0m eta \u001b[36m0:00:00\u001b[0m\n",
            "\u001b[?25hRequirement already satisfied: tqdm<5.0.0,>=4.65.0 in /usr/local/lib/python3.10/dist-packages (from invertedai) (4.65.0)\n",
            "Requirement already satisfied: contourpy>=1.0.1 in /usr/local/lib/python3.10/dist-packages (from matplotlib<4.0.0,>=3.6.2->invertedai) (1.1.0)\n",
            "Requirement already satisfied: cycler>=0.10 in /usr/local/lib/python3.10/dist-packages (from matplotlib<4.0.0,>=3.6.2->invertedai) (0.11.0)\n",
            "Requirement already satisfied: fonttools>=4.22.0 in /usr/local/lib/python3.10/dist-packages (from matplotlib<4.0.0,>=3.6.2->invertedai) (4.41.0)\n",
            "Requirement already satisfied: kiwisolver>=1.0.1 in /usr/local/lib/python3.10/dist-packages (from matplotlib<4.0.0,>=3.6.2->invertedai) (1.4.4)\n",
            "Requirement already satisfied: numpy>=1.20 in /usr/local/lib/python3.10/dist-packages (from matplotlib<4.0.0,>=3.6.2->invertedai) (1.22.4)\n",
            "Requirement already satisfied: packaging>=20.0 in /usr/local/lib/python3.10/dist-packages (from matplotlib<4.0.0,>=3.6.2->invertedai) (23.1)\n",
            "Requirement already satisfied: pillow>=6.2.0 in /usr/local/lib/python3.10/dist-packages (from matplotlib<4.0.0,>=3.6.2->invertedai) (8.4.0)\n",
            "Requirement already satisfied: pyparsing>=2.3.1 in /usr/local/lib/python3.10/dist-packages (from matplotlib<4.0.0,>=3.6.2->invertedai) (3.1.0)\n",
            "Requirement already satisfied: python-dateutil>=2.7 in /usr/local/lib/python3.10/dist-packages (from matplotlib<4.0.0,>=3.6.2->invertedai) (2.8.2)\n",
            "Requirement already satisfied: typing-extensions>=4.2.0 in /usr/local/lib/python3.10/dist-packages (from pydantic<2.0.0,>=1.10.2->invertedai) (4.7.1)\n",
            "Requirement already satisfied: charset-normalizer<4,>=2 in /usr/local/lib/python3.10/dist-packages (from requests<3.0.0,>=2.28.1->invertedai) (2.0.12)\n",
            "Requirement already satisfied: idna<4,>=2.5 in /usr/local/lib/python3.10/dist-packages (from requests<3.0.0,>=2.28.1->invertedai) (3.4)\n",
            "Requirement already satisfied: urllib3<3,>=1.21.1 in /usr/local/lib/python3.10/dist-packages (from requests<3.0.0,>=2.28.1->invertedai) (1.26.16)\n",
            "Requirement already satisfied: certifi>=2017.4.17 in /usr/local/lib/python3.10/dist-packages (from requests<3.0.0,>=2.28.1->invertedai) (2023.5.7)\n",
            "Requirement already satisfied: six>=1.5 in /usr/local/lib/python3.10/dist-packages (from python-dateutil>=2.7->matplotlib<4.0.0,>=3.6.2->invertedai) (1.16.0)\n",
            "Installing collected packages: requests, invertedai\n",
            "  Attempting uninstall: requests\n",
            "    Found existing installation: requests 2.27.1\n",
            "    Uninstalling requests-2.27.1:\n",
            "      Successfully uninstalled requests-2.27.1\n",
            "\u001b[31mERROR: pip's dependency resolver does not currently take into account all the packages that are installed. This behaviour is the source of the following dependency conflicts.\n",
            "google-colab 1.0.0 requires requests==2.27.1, but you have requests 2.31.0 which is incompatible.\u001b[0m\u001b[31m\n",
            "\u001b[0mSuccessfully installed invertedai-0.0.8.post1 requests-2.31.0\n"
          ]
        }
      ],
      "source": [
        "# Some stuff to get us going:\n",
        "!pip install invertedai\n",
        "from IPython.display import clear_output\n",
        "import timeit\n",
        "clear_output()"
      ]
    },
    {
      "cell_type": "markdown",
      "id": "993064b1",
      "metadata": {
        "id": "993064b1"
      },
      "source": [
        "# Setup"
      ]
    },
    {
      "cell_type": "code",
      "execution_count": 2,
      "id": "28a99825",
      "metadata": {
        "id": "28a99825"
      },
      "outputs": [],
      "source": [
        "apikey = \"\"\n",
        "location =  \"iai:drake_street_and_pacific_blvd\"\n",
        "number_of_calls = 100\n",
        "\n",
        "setup=f'''\n",
        "import invertedai as iai\n",
        "iai.add_apikey(\"{apikey}\")\n",
        "location = \"{location}\"\n",
        "simulation_length = 100\n",
        "response = iai.initialize(location, agent_count = 10,)\n",
        "agent_attributes = response.agent_attributes\n",
        "'''\n",
        "drive_with_birdview='''\n",
        "iai.drive(location=location, agent_attributes=agent_attributes, agent_states=response.agent_states,recurrent_states=response.recurrent_states,get_birdview=True)\n",
        "'''\n",
        "drive_without_birdview='''\n",
        "iai.drive(location=location, agent_attributes=agent_attributes, agent_states=response.agent_states,recurrent_states=response.recurrent_states,get_birdview=False)\n",
        "'''"
      ]
    },
    {
      "cell_type": "markdown",
      "id": "d090457e-80f1-46cd-bcae-1fe3104b2b69",
      "metadata": {
        "id": "d090457e-80f1-46cd-bcae-1fe3104b2b69"
      },
      "source": [
        "# Response time for DRIVE with and without birdviews"
      ]
    },
    {
      "cell_type": "code",
      "execution_count": 3,
      "id": "2ab8482c-7940-4cd3-a4cb-953961eea4dd",
      "metadata": {
        "id": "2ab8482c-7940-4cd3-a4cb-953961eea4dd",
        "outputId": "cc46b38c-1b5f-4e20-ff42-e206483d24db",
        "colab": {
          "base_uri": "https://localhost:8080/"
        }
      },
      "outputs": [
        {
          "output_type": "stream",
          "name": "stdout",
          "text": [
            "With birdview: 0.64 per API call \n",
            "Without birdview: 0.48 per API Call\n"
          ]
        }
      ],
      "source": [
        "with_birdview =  timeit.timeit(setup = setup, stmt = drive_with_birdview, number = number_of_calls)/number_of_calls\n",
        "without_birdview = timeit.timeit(setup = setup, stmt = drive_without_birdview, number = number_of_calls)/number_of_calls\n",
        "print(f\"With birdview: {with_birdview:.2} per API call \")\n",
        "print(f\"Without birdview: {without_birdview:.2} per API Call\")"
      ]
    }
  ],
  "metadata": {
    "kernelspec": {
      "display_name": "Python 3 (ipykernel)",
      "language": "python",
      "name": "python3"
    },
    "language_info": {
      "codemirror_mode": {
        "name": "ipython",
        "version": 3
      },
      "file_extension": ".py",
      "mimetype": "text/x-python",
      "name": "python",
      "nbconvert_exporter": "python",
      "pygments_lexer": "ipython3",
      "version": "3.8.10"
    },
    "colab": {
      "provenance": []
    }
  },
  "nbformat": 4,
  "nbformat_minor": 5
}