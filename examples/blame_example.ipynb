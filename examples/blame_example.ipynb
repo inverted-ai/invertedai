{
  "cells": [
    {
      "cell_type": "markdown",
      "metadata": {
        "id": "uYrB4Yk3aizw"
      },
      "source": [
        "<img src=\"https://raw.githubusercontent.com/inverted-ai/invertedai/master/docs/images/banner-small.png\" alt=\"InvertedAI\" width=\"200\"/>\n"
      ]
    },
    {
      "cell_type": "code",
      "execution_count": null,
      "metadata": {
        "id": "b7l_n8sULmAX",
        "collapsed": true
      },
      "outputs": [],
      "source": [
        "import sys\n",
        "sys.path.insert(0, \"..\")\n",
        "\n",
        "import IPython\n",
        "from IPython.display import display, Image, clear_output\n",
        "from ipywidgets import interact\n",
        "\n",
        "import matplotlib.pyplot as plt\n",
        "import imageio\n",
        "import numpy as np\n",
        "import cv2\n",
        "import invertedai as iai\n",
        "from IPython.utils import io\n",
        "import time"
      ]
    },
    {
      "cell_type": "code",
      "execution_count": null,
      "metadata": {
        "id": "SFu9oOcDIQGs"
      },
      "outputs": [],
      "source": [
        "# API key:\n",
        "iai.add_apikey(\"\")"
      ]
    },
    {
      "cell_type": "code",
      "execution_count": null,
      "metadata": {
        "id": "PiySgisPG6mG"
      },
      "outputs": [],
      "source": [
        "# pick a location (4 way, signalized intgersection)\n",
        "location = \"iai:drake_street_and_pacific_blvd\""
      ]
    },
    {
      "cell_type": "code",
      "execution_count": null,
      "metadata": {
        "id": "kT3m0-zoNdvW"
      },
      "outputs": [],
      "source": [
        "location_info_response = iai.location_info(location=location)\n",
        "rendered_static_map = location_info_response.birdview_image.decode()\n",
        "scene_plotter = iai.utils.ScenePlotter(rendered_static_map,\n",
        "                                       location_info_response.map_fov,\n",
        "                                       (location_info_response.map_center.x, location_info_response.map_center.y),\n",
        "                                       location_info_response.static_actors)"
      ]
    },
    {
      "cell_type": "code",
      "execution_count": null,
      "metadata": {
        "id": "L0ufxMO8NdvX"
      },
      "outputs": [],
      "source": [
        "collisions = []\n",
        "collision_index = None\n",
        "is_found_collision = False\n",
        "\n",
        "# Simulate with `initialize`, `drive` and `light` until there are collisions.\n",
        "for _ in range(20): #Attempt 20 simulations looking for a collision\n",
        "    light_response = iai.light(location=location)\n",
        "\n",
        "    response = iai.initialize(\n",
        "        location=location,\n",
        "        agent_count=15,\n",
        "        get_birdview=True,\n",
        "        traffic_light_state_history=[light_response.traffic_lights_states]\n",
        "    )\n",
        "    agent_attributes = response.agent_attributes\n",
        "    scene_plotter.initialize_recording(response.agent_states,\n",
        "                                       agent_attributes=agent_attributes,\n",
        "                                       traffic_light_states=light_response.traffic_lights_states)\n",
        "\n",
        "    agent_state_history = []\n",
        "    traffic_light_state_history = []\n",
        "\n",
        "    # 20-second scene\n",
        "    for t in range(100):\n",
        "        light_response = iai.light(location=location, recurrent_states=light_response.recurrent_states)\n",
        "        response = iai.drive(\n",
        "            location=location,\n",
        "            agent_attributes=agent_attributes,\n",
        "            agent_states=response.agent_states,\n",
        "            recurrent_states=response.recurrent_states,\n",
        "            get_birdview=False,\n",
        "            traffic_lights_states=light_response.traffic_lights_states,\n",
        "            get_infractions=True,\n",
        "            random_seed=1\n",
        "        )\n",
        "        scene_plotter.record_step(response.agent_states, traffic_light_states=light_response.traffic_lights_states)\n",
        "        agent_state_history.append(response.agent_states)\n",
        "        traffic_light_state_history.append(light_response.traffic_lights_states)\n",
        "\n",
        "        for agent, infractions in enumerate(response.infractions):\n",
        "            if infractions.collisions: collisions.append(agent)\n",
        "            if len(collisions) == 2 and not is_found_collision:\n",
        "                is_found_collision = True\n",
        "                collision_index = t\n",
        "\n",
        "        print(f\"Iteration number {_}\")\n",
        "        clear_output(wait=True)\n",
        "\n",
        "    if is_found_collision: break\n",
        "\n",
        "print(collisions)"
      ]
    },
    {
      "cell_type": "code",
      "execution_count": null,
      "metadata": {
        "id": "YQ4dXaKQNdvZ"
      },
      "outputs": [],
      "source": [
        "idx = 0\n",
        "collision = collisions[idx]\n",
        "blame_response = iai.blame(\n",
        "    location=location,\n",
        "    candidate_agents=collision,\n",
        "    agent_state_history=agent_state_history[:collision_index],\n",
        "    traffic_light_state_history=traffic_light_state_history[:collision_index],\n",
        "    agent_attributes=agent_attributes,\n",
        "    get_reasons=True,\n",
        "    get_confidence_score=True,\n",
        "    get_birdviews=False\n",
        ")\n",
        "print(blame_response.blamed_result)"
      ]
    },
    {
      "cell_type": "code",
      "execution_count": null,
      "metadata": {
        "id": "jRRaiLInNdvZ"
      },
      "outputs": [],
      "source": [
        "blame_response.reasons"
      ]
    },
    {
      "cell_type": "code",
      "execution_count": null,
      "metadata": {
        "id": "oZ79k112Ndva"
      },
      "outputs": [],
      "source": [
        "blame_response.confidence_score"
      ]
    },
    {
      "cell_type": "code",
      "execution_count": null,
      "metadata": {
        "id": "QzbqXvS7Ndva"
      },
      "outputs": [],
      "source": [
        "%%capture\n",
        "fig, ax = plt.subplots(constrained_layout=True, figsize=(15, 15))\n",
        "gif_name = 'part-iai-drive-side-road-green.gif'\n",
        "scene_plotter.animate_scene(\n",
        "    output_name=gif_name,\n",
        "    ax=ax,\n",
        "    numbers=list(collision[0]),\n",
        "    direction_vec=False,\n",
        "    velocity_vec=False,\n",
        "    plot_frame_number=True\n",
        ")"
      ]
    },
    {
      "cell_type": "code",
      "execution_count": null,
      "metadata": {
        "id": "aUYCAHfsNdva"
      },
      "outputs": [],
      "source": [
        "Image(gif_name)"
      ]
    }
  ],
  "metadata": {
    "colab": {
      "provenance": []
    },
    "kernelspec": {
      "display_name": "Python 3 (ipykernel)",
      "language": "python",
      "name": "python3"
    },
    "language_info": {
      "codemirror_mode": {
        "name": "ipython",
        "version": 3
      },
      "file_extension": ".py",
      "mimetype": "text/x-python",
      "name": "python",
      "nbconvert_exporter": "python",
      "pygments_lexer": "ipython3",
      "version": "3.8.10"
    }
  },
  "nbformat": 4,
  "nbformat_minor": 0
}