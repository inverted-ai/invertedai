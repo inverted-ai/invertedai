{
 "cells": [
  {
   "cell_type": "markdown",
   "metadata": {
    "id": "uYrB4Yk3aizw"
   },
   "source": [
    "<img src=\"https://raw.githubusercontent.com/inverted-ai/invertedai/master/docs/images/banner-small.png\" alt=\"InvertedAI\" width=\"200\"/>\n"
   ]
  },
  {
   "cell_type": "code",
   "execution_count": 1,
   "metadata": {
    "id": "b7l_n8sULmAX"
   },
   "outputs": [],
   "source": [
    "import IPython\n",
    "from IPython.display import display, Image, clear_output\n",
    "from ipywidgets import interact\n",
    "from IPython.utils import io\n",
    "\n",
    "import matplotlib.pyplot as plt\n",
    "import imageio\n",
    "import numpy as np\n",
    "import cv2\n",
    "import invertedai as iai\n",
    "\n",
    "from shapely.geometry import Polygon\n",
    "from shapely.errors import GEOSException\n",
    "\n",
    "from dataclasses import dataclass\n",
    "from typing import Tuple"
   ]
  },
  {
   "cell_type": "code",
   "execution_count": 2,
   "metadata": {
    "id": "SFu9oOcDIQGs"
   },
   "outputs": [],
   "source": [
    "# API key:\n",
    "iai.add_apikey(\"\")"
   ]
  },
  {
   "cell_type": "code",
   "execution_count": 3,
   "metadata": {
    "id": "PiySgisPG6mG"
   },
   "outputs": [],
   "source": [
    "# pick a location (4 way, signalized intgersection)\n",
    "location = \"iai:drake_street_and_pacific_blvd\""
   ]
  },
  {
   "cell_type": "code",
   "execution_count": 4,
   "metadata": {
    "id": "kT3m0-zoNdvW"
   },
   "outputs": [],
   "source": [
    "location_info_response = iai.location_info(location=location)\n",
    "rendered_static_map = location_info_response.birdview_image.decode()\n",
    "scene_plotter = iai.utils.ScenePlotter(rendered_static_map,\n",
    "                                       location_info_response.map_fov,\n",
    "                                       (location_info_response.map_center.x, location_info_response.map_center.y),\n",
    "                                       location_info_response.static_actors)"
   ]
  },
  {
   "cell_type": "code",
   "execution_count": 6,
   "metadata": {
    "id": "L0ufxMO8NdvX",
    "scrolled": true
   },
   "outputs": [
    {
     "name": "stdout",
     "output_type": "stream",
     "text": [
      "[LogCollision(collision_agents=(2, 4), start_time=85, end_time=88)]\n"
     ]
    }
   ],
   "source": [
    "@dataclass\n",
    "class LogCollision:\n",
    "    collision_agents: Tuple[int, int]\n",
    "    start_time: int \n",
    "    end_time: int\n",
    "\n",
    "def compute_pairwise_collisions(agent_states_history,agent_attributes):\n",
    "    \"\"\"\n",
    "    Use polygon intersections to check each agent combination whether there is a collision.\n",
    "    \n",
    "    Args:\n",
    "        agent_states: List of all current agent states including x and y coordinates and angle.\n",
    "        agent_attributes: List of static attributes of all agents including agent length and width.\n",
    "\n",
    "    Returns:\n",
    "        List of colliding pairs of agents. => List[List[int,int]]\n",
    "    \"\"\"\n",
    "    \n",
    "    collisions_ongoing = {}\n",
    "    collisions_all = []\n",
    "    \n",
    "    #Iterate through the entire agent state history to find collisions at each time step\n",
    "    for t, agent_states in enumerate(agent_states_history):\n",
    "        num_agents = len(agent_states)\n",
    "        if not num_agents == len(agent_attributes):\n",
    "            raise Exception(\"Incorrect number of agents or agent attributes.\")\n",
    "\n",
    "        #Transform the points of the agents polygon into the common world coordinate frame\n",
    "        polygons = [None]*num_agents\n",
    "        for i, (state, attributes) in enumerate(zip(agent_states,agent_attributes)):\n",
    "            dx = attributes.length/2\n",
    "            dy = attributes.width/2\n",
    "\n",
    "            origin = np.array([[state.center.x], [state.center.y]])\n",
    "\n",
    "            angle = state.orientation\n",
    "            c, s = np.cos(angle), np.sin(angle)\n",
    "            \n",
    "            #Rotation matrix\n",
    "            R = np.array([[c, -s],\n",
    "                          [c, s]])\n",
    "            #Stacked vectors of agent polygon points in the agents coordinate frame\n",
    "            #Points are in order around the polygon\n",
    "            V = np.array([[dx,dx,-dx,-dx],\n",
    "                          [dy,-dy,-dy,dy]])\n",
    "            #Apply the rotation into the world frame\n",
    "            RV = np.matmul(R,V)\n",
    "            \n",
    "            #Add the displacement between the world frame and the agent frame\n",
    "            TV = origin + RV\n",
    "            polygons[i] = TV\n",
    "\n",
    "        #Check every combination of of agent polygons\n",
    "        detected_collisions = []\n",
    "        polygons = [Polygon([p[:,0], p[:,1], p[:,2], p[:,3]]) for p in polygons]\n",
    "        for j in range(num_agents):\n",
    "            a = polygons[j]\n",
    "            for k in range(j+1,num_agents):\n",
    "                b = polygons[k]\n",
    "                try:\n",
    "                    if a.intersection(b).area:\n",
    "                        detected_collisions.append([j,k])\n",
    "                except GEOSException as e:\n",
    "                    print(f\"Collision candidates {j} and {k} failed with error {e}.\")\n",
    "                    pass\n",
    "        \n",
    "        #Check for collisions and acquire: agent IDs, collision start time, collision end time\n",
    "        #Collect all collisions in the simulation\n",
    "        for collision in detected_collisions:\n",
    "            agent_tuple = tuple(collision)\n",
    "            #If a colliding pair is detected and are not in the dictionary, add them here to track them\n",
    "            if not agent_tuple in collisions_ongoing:\n",
    "                collisions_ongoing[agent_tuple] = LogCollision(\n",
    "                    collision_agents=agent_tuple,\n",
    "                    start_time=t,\n",
    "                    end_time=None\n",
    "                )\n",
    "        keys_to_delete = []\n",
    "        for agent_tuple, collision in collisions_ongoing.items():\n",
    "            if collision.end_time == None:\n",
    "                if not list(collision.collision_agents) in detected_collisions or t >= SIMULATION_LENGTH-1:\n",
    "                    #If a collision with no end time is no longer detected within the dictionary, assume the agents\n",
    "                    #are no longer colliding and the end time is found.\n",
    "                    collisions_ongoing[agent_tuple].end_time = t\n",
    "                    collisions_all.append(collisions_ongoing[agent_tuple])\n",
    "                    keys_to_delete.append(agent_tuple)\n",
    "        for key in keys_to_delete:\n",
    "            #Cannot delete items from dictionary while iterating over it\n",
    "            #Capture collisions that are finished and delete them separately in this loop\n",
    "            del collisions_ongoing[key]\n",
    "    \n",
    "    return collisions_all\n",
    "\n",
    "# Simulate with `initialize`, `drive` and `light` until there are collisions.\n",
    "for _ in range(20): #Attempt 20 simulations looking for a collision\n",
    "    light_response = iai.light(location=location)\n",
    "\n",
    "    response = iai.initialize(\n",
    "        location=location,\n",
    "        agent_count=15,\n",
    "        get_birdview=True,\n",
    "        traffic_light_state_history=[light_response.traffic_lights_states]\n",
    "    )\n",
    "    agent_attributes = response.agent_attributes\n",
    "    scene_plotter.initialize_recording(response.agent_states,\n",
    "                                       agent_attributes=agent_attributes,\n",
    "                                       traffic_light_states=light_response.traffic_lights_states)\n",
    "\n",
    "    agent_state_history = []\n",
    "    traffic_light_state_history = []\n",
    "\n",
    "    # 10-second scene\n",
    "    SIMULATION_LENGTH = 100\n",
    "    for t in range(SIMULATION_LENGTH):\n",
    "        light_response = iai.light(location=location, recurrent_states=light_response.recurrent_states)\n",
    "        response = iai.drive(\n",
    "            location=location,\n",
    "            agent_attributes=agent_attributes,\n",
    "            agent_states=response.agent_states,\n",
    "            recurrent_states=response.recurrent_states,\n",
    "            get_birdview=False,\n",
    "            traffic_lights_states=light_response.traffic_lights_states,\n",
    "            get_infractions=True,\n",
    "            random_seed=1\n",
    "        )\n",
    "        scene_plotter.record_step(response.agent_states, traffic_light_states=light_response.traffic_lights_states)\n",
    "        agent_state_history.append(response.agent_states)\n",
    "        traffic_light_state_history.append(light_response.traffic_lights_states)\n",
    "        \n",
    "        print(f\"Attempted collision simulation number {_} iteration number {t}.\")\n",
    "        clear_output(wait=True)\n",
    "          \n",
    "    collisions = compute_pairwise_collisions(agent_state_history,agent_attributes)\n",
    "    if collisions: \n",
    "        #If a collision is detected, cease generating more simulations\n",
    "        break\n",
    "\n",
    "print(collisions)"
   ]
  },
  {
   "cell_type": "code",
   "execution_count": 7,
   "metadata": {
    "id": "YQ4dXaKQNdvZ"
   },
   "outputs": [
    {
     "ename": "ValidationError",
     "evalue": "2 validation errors for Blame\ncandidate_agents\n  field required (type=value_error.missing)\nkwargs\n  unexpected keyword argument: 'colliding_agents' (type=type_error)",
     "output_type": "error",
     "traceback": [
      "\u001b[0;31m---------------------------------------------------------------------------\u001b[0m",
      "\u001b[0;31mValidationError\u001b[0m                           Traceback (most recent call last)",
      "Cell \u001b[0;32mIn[7], line 3\u001b[0m\n\u001b[1;32m      1\u001b[0m blame_responses \u001b[38;5;241m=\u001b[39m []\n\u001b[1;32m      2\u001b[0m \u001b[38;5;28;01mfor\u001b[39;00m collision_data \u001b[38;5;129;01min\u001b[39;00m collisions:\n\u001b[0;32m----> 3\u001b[0m     blame_response \u001b[38;5;241m=\u001b[39m \u001b[43miai\u001b[49m\u001b[38;5;241;43m.\u001b[39;49m\u001b[43mblame\u001b[49m\u001b[43m(\u001b[49m\n\u001b[1;32m      4\u001b[0m \u001b[43m        \u001b[49m\u001b[43mlocation\u001b[49m\u001b[38;5;241;43m=\u001b[39;49m\u001b[43mlocation\u001b[49m\u001b[43m,\u001b[49m\n\u001b[1;32m      5\u001b[0m \u001b[43m        \u001b[49m\u001b[43mcolliding_agents\u001b[49m\u001b[38;5;241;43m=\u001b[39;49m\u001b[43mcollision_data\u001b[49m\u001b[38;5;241;43m.\u001b[39;49m\u001b[43mcollision_agents\u001b[49m\u001b[43m,\u001b[49m\n\u001b[1;32m      6\u001b[0m \u001b[43m        \u001b[49m\u001b[43magent_state_history\u001b[49m\u001b[38;5;241;43m=\u001b[39;49m\u001b[43magent_state_history\u001b[49m\u001b[43m[\u001b[49m\u001b[43m:\u001b[49m\u001b[43mcollision_data\u001b[49m\u001b[38;5;241;43m.\u001b[39;49m\u001b[43mstart_time\u001b[49m\u001b[43m]\u001b[49m\u001b[43m,\u001b[49m\n\u001b[1;32m      7\u001b[0m \u001b[43m        \u001b[49m\u001b[43mtraffic_light_state_history\u001b[49m\u001b[38;5;241;43m=\u001b[39;49m\u001b[43mtraffic_light_state_history\u001b[49m\u001b[43m[\u001b[49m\u001b[43m:\u001b[49m\u001b[43mcollision_data\u001b[49m\u001b[38;5;241;43m.\u001b[39;49m\u001b[43mstart_time\u001b[49m\u001b[43m]\u001b[49m\u001b[43m,\u001b[49m\n\u001b[1;32m      8\u001b[0m \u001b[43m        \u001b[49m\u001b[43magent_attributes\u001b[49m\u001b[38;5;241;43m=\u001b[39;49m\u001b[43magent_attributes\u001b[49m\u001b[43m,\u001b[49m\n\u001b[1;32m      9\u001b[0m \u001b[43m        \u001b[49m\u001b[43mget_reasons\u001b[49m\u001b[38;5;241;43m=\u001b[39;49m\u001b[38;5;28;43;01mTrue\u001b[39;49;00m\u001b[43m,\u001b[49m\n\u001b[1;32m     10\u001b[0m \u001b[43m        \u001b[49m\u001b[43mget_confidence_score\u001b[49m\u001b[38;5;241;43m=\u001b[39;49m\u001b[38;5;28;43;01mTrue\u001b[39;49;00m\u001b[43m,\u001b[49m\n\u001b[1;32m     11\u001b[0m \u001b[43m        \u001b[49m\u001b[43mget_birdviews\u001b[49m\u001b[38;5;241;43m=\u001b[39;49m\u001b[38;5;28;43;01mFalse\u001b[39;49;00m\n\u001b[1;32m     12\u001b[0m \u001b[43m    \u001b[49m\u001b[43m)\u001b[49m\n\u001b[1;32m     13\u001b[0m     \u001b[38;5;28mprint\u001b[39m(blame_response\u001b[38;5;241m.\u001b[39magents_at_fault)\n\u001b[1;32m     14\u001b[0m     blame_responses\u001b[38;5;241m.\u001b[39mappend(blame_response)\n",
      "File \u001b[0;32m/usr/local/lib/python3.8/dist-packages/pydantic/decorator.py:40\u001b[0m, in \u001b[0;36mpydantic.decorator.validate_arguments.validate.wrapper_function\u001b[0;34m()\u001b[0m\n",
      "File \u001b[0;32m/usr/local/lib/python3.8/dist-packages/pydantic/decorator.py:133\u001b[0m, in \u001b[0;36mpydantic.decorator.ValidatedFunction.call\u001b[0;34m()\u001b[0m\n",
      "File \u001b[0;32m/usr/local/lib/python3.8/dist-packages/pydantic/decorator.py:130\u001b[0m, in \u001b[0;36mpydantic.decorator.ValidatedFunction.init_model_instance\u001b[0;34m()\u001b[0m\n",
      "File \u001b[0;32m/usr/local/lib/python3.8/dist-packages/pydantic/main.py:341\u001b[0m, in \u001b[0;36mpydantic.main.BaseModel.__init__\u001b[0;34m()\u001b[0m\n",
      "\u001b[0;31mValidationError\u001b[0m: 2 validation errors for Blame\ncandidate_agents\n  field required (type=value_error.missing)\nkwargs\n  unexpected keyword argument: 'colliding_agents' (type=type_error)"
     ]
    }
   ],
   "source": [
    "blame_responses = []\n",
    "for collision_data in collisions:\n",
    "    blame_response = iai.blame(\n",
    "        location=location,\n",
    "        colliding_agents=collision_data.collision_agents,\n",
    "        agent_state_history=agent_state_history[:collision_data.start_time],\n",
    "        traffic_light_state_history=traffic_light_state_history[:collision_data.start_time],\n",
    "        agent_attributes=agent_attributes,\n",
    "        get_reasons=True,\n",
    "        get_confidence_score=True,\n",
    "        get_birdviews=False\n",
    "    )\n",
    "    print(blame_response.agents_at_fault)\n",
    "    blame_responses.append(blame_response)"
   ]
  },
  {
   "cell_type": "code",
   "execution_count": null,
   "metadata": {
    "id": "jRRaiLInNdvZ"
   },
   "outputs": [],
   "source": [
    "for response in blame_responses:\n",
    "    print(response.reasons)"
   ]
  },
  {
   "cell_type": "code",
   "execution_count": null,
   "metadata": {
    "id": "oZ79k112Ndva"
   },
   "outputs": [],
   "source": [
    "for response in blame_responses:\n",
    "    print(response.confidence_score)"
   ]
  },
  {
   "cell_type": "code",
   "execution_count": null,
   "metadata": {
    "id": "QzbqXvS7Ndva"
   },
   "outputs": [],
   "source": [
    "%%capture\n",
    "fig, ax = plt.subplots(constrained_layout=True, figsize=(50, 50))\n",
    "gif_name = 'blame-example.gif'\n",
    "scene_plotter.animate_scene(\n",
    "    output_name=gif_name,\n",
    "    ax=ax,\n",
    "    numbers=True,\n",
    "    direction_vec=False,\n",
    "    velocity_vec=False,\n",
    "    plot_frame_number=True\n",
    ")"
   ]
  },
  {
   "cell_type": "code",
   "execution_count": null,
   "metadata": {
    "id": "aUYCAHfsNdva"
   },
   "outputs": [],
   "source": [
    "Image(gif_name, width=1000, height=800)"
   ]
  },
  {
   "cell_type": "code",
   "execution_count": null,
   "metadata": {},
   "outputs": [],
   "source": []
  }
 ],
 "metadata": {
  "colab": {
   "provenance": []
  },
  "kernelspec": {
   "display_name": "Python 3 (ipykernel)",
   "language": "python",
   "name": "python3"
  },
  "language_info": {
   "codemirror_mode": {
    "name": "ipython",
    "version": 3
   },
   "file_extension": ".py",
   "mimetype": "text/x-python",
   "name": "python",
   "nbconvert_exporter": "python",
   "pygments_lexer": "ipython3",
   "version": "3.8.10"
  }
 },
 "nbformat": 4,
 "nbformat_minor": 1
}
