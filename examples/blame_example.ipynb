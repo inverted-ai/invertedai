{
 "cells": [
  {
   "cell_type": "markdown",
   "metadata": {
    "id": "uYrB4Yk3aizw"
   },
   "source": [
    "<img src=\"https://raw.githubusercontent.com/inverted-ai/invertedai/master/docs/images/banner-small.png\" alt=\"InvertedAI\" width=\"200\"/>\n"
   ]
  },
  {
   "cell_type": "code",
   "execution_count": null,
   "metadata": {
    "id": "b7l_n8sULmAX"
   },
   "outputs": [],
   "source": [
    "import sys\n",
    "sys.path.insert(0, \"..\")\n",
    "\n",
    "import IPython\n",
    "from IPython.display import display, Image, clear_output\n",
    "from ipywidgets import interact\n",
    "from IPython.utils import io\n",
    "\n",
    "import matplotlib.pyplot as plt\n",
    "import imageio\n",
    "import numpy as np\n",
    "import cv2\n",
    "import invertedai as iai\n",
    "\n",
    "from shapely.geometry import Polygon\n",
    "from shapely.errors import GEOSException\n",
    "\n",
    "from dataclasses import dataclass\n",
    "from typing import Tuple"
   ]
  },
  {
   "cell_type": "code",
   "execution_count": null,
   "metadata": {
    "id": "SFu9oOcDIQGs"
   },
   "outputs": [],
   "source": [
    "# API key:\n",
    "iai.add_apikey(\"\")"
   ]
  },
  {
   "cell_type": "code",
   "execution_count": null,
   "metadata": {
    "id": "PiySgisPG6mG"
   },
   "outputs": [],
   "source": [
    "# pick a location (4 way, signalized intgersection)\n",
    "location = \"iai:drake_street_and_pacific_blvd\""
   ]
  },
  {
   "cell_type": "code",
   "execution_count": null,
   "metadata": {
    "id": "kT3m0-zoNdvW"
   },
   "outputs": [],
   "source": [
    "location_info_response = iai.location_info(location=location)\n",
    "rendered_static_map = location_info_response.birdview_image.decode()\n",
    "scene_plotter = iai.utils.ScenePlotter(rendered_static_map,\n",
    "                                       location_info_response.map_fov,\n",
    "                                       (location_info_response.map_center.x, location_info_response.map_center.y),\n",
    "                                       location_info_response.static_actors)"
   ]
  },
  {
   "cell_type": "code",
   "execution_count": null,
   "metadata": {
    "id": "L0ufxMO8NdvX",
    "scrolled": true
   },
   "outputs": [],
   "source": [
    "collisions = {}\n",
    "\n",
    "@dataclass\n",
    "class LogCollision:\n",
    "    collision_agents: Tuple[int, int]\n",
    "    start_time: int \n",
    "    end_time: int\n",
    "\n",
    "def compute_pairwise_collisions(agent_states,agent_attributes):\n",
    "    \"\"\"\n",
    "    Use polygon intersections to check each agent combination whether there is a collision.\n",
    "    \n",
    "    Args:\n",
    "        agent_states: List of all current agent states including x and y coordinates and angle.\n",
    "        agent_attributes: List of static attributes of all agents including agent length and width.\n",
    "\n",
    "    Returns:\n",
    "        List of colliding pairs of agents. => List[List[int,int]]\n",
    "    \"\"\"\n",
    "    \n",
    "    num_agents = len(agent_states)\n",
    "    if not num_agents == len(agent_attributes):\n",
    "        raise Exception(\"Incorrect number of agents or agent attributes.\")\n",
    "    \n",
    "    polygons = [None]*num_agents\n",
    "    for i, (state, attributes) in enumerate(zip(agent_states,agent_attributes)):\n",
    "        dx = attributes.length/2\n",
    "        dy = attributes.width/2\n",
    "        \n",
    "        origin = np.array([[state.center.x], [state.center.y]])\n",
    "        \n",
    "        angle = state.orientation\n",
    "        c, s = np.cos(angle), np.sin(angle)\n",
    "\n",
    "        R = np.array([[c, -s],\n",
    "                      [c, s]])\n",
    "        V = np.array([[dx,dx,-dx,-dx],\n",
    "                      [dy,-dy,-dy,dy]])\n",
    "        RV = np.matmul(R,V)\n",
    "        \n",
    "        TV = origin + RV\n",
    "        np.around(TV,3)\n",
    "        polygons[i] = TV\n",
    "    \n",
    "    collisions = []\n",
    "    polygons = [Polygon([p[:,0], p[:,1], p[:,2], p[:,3]]) for p in polygons]\n",
    "    for j in range(num_agents):\n",
    "        a = polygons[j]\n",
    "        for k in range(j+1,num_agents):\n",
    "            b = polygons[k]\n",
    "            try:\n",
    "                intersection = a.intersection(b).area\n",
    "                if intersection:\n",
    "                    collisions.append([j,k])\n",
    "            except GEOSException as e:\n",
    "                print(f\"Collision candidates {j} and {k} failed with error {e}.\")\n",
    "                pass\n",
    "    \n",
    "    return collisions\n",
    "\n",
    "# Simulate with `initialize`, `drive` and `light` until there are collisions.\n",
    "for _ in range(20): #Attempt 20 simulations looking for a collision\n",
    "    light_response = iai.light(location=location)\n",
    "\n",
    "    response = iai.initialize(\n",
    "        location=location,\n",
    "        agent_count=15,\n",
    "        get_birdview=True,\n",
    "        traffic_light_state_history=[light_response.traffic_lights_states]\n",
    "    )\n",
    "    agent_attributes = response.agent_attributes\n",
    "    scene_plotter.initialize_recording(response.agent_states,\n",
    "                                       agent_attributes=agent_attributes,\n",
    "                                       traffic_light_states=light_response.traffic_lights_states)\n",
    "\n",
    "    agent_state_history = []\n",
    "    traffic_light_state_history = []\n",
    "\n",
    "    # 10-second scene\n",
    "    SIMULATION_LENGTH = 100\n",
    "    for t in range(SIMULATION_LENGTH):\n",
    "        light_response = iai.light(location=location, recurrent_states=light_response.recurrent_states)\n",
    "        response = iai.drive(\n",
    "            location=location,\n",
    "            agent_attributes=agent_attributes,\n",
    "            agent_states=response.agent_states,\n",
    "            recurrent_states=response.recurrent_states,\n",
    "            get_birdview=False,\n",
    "            traffic_lights_states=light_response.traffic_lights_states,\n",
    "            get_infractions=True,\n",
    "            random_seed=1\n",
    "        )\n",
    "        scene_plotter.record_step(response.agent_states, traffic_light_states=light_response.traffic_lights_states)\n",
    "        agent_state_history.append(response.agent_states)\n",
    "        traffic_light_state_history.append(light_response.traffic_lights_states)\n",
    "\n",
    "        #Check for collisions and acquire: agent IDs, collision start time, collision end time\n",
    "        #Collect all collisions in the simulation\n",
    "        detected_collisions = compute_pairwise_collisions(response.agent_states,agent_attributes)\n",
    "        for collision in detected_collisions:\n",
    "            agent_tuple = tuple(collision)\n",
    "            #If a colliding pair is detected and are not in the dictionary, add them here to track them\n",
    "            if not agent_tuple in collisions:\n",
    "                collisions[agent_tuple] = LogCollision(\n",
    "                    collision_agents=agent_tuple,\n",
    "                    start_time=t,\n",
    "                    end_time=None\n",
    "                )\n",
    "        for agent_tuple, collision in collisions.items():\n",
    "            if collision.end_time == None:\n",
    "                if not list(collision.collision_agents) in detected_collisions or t >= SIMULATION_LENGTH-1:\n",
    "                    #If a collision with no end time is no longer detected within the dictionary, assume the agents\n",
    "                    #are no longer colliding and the end time is found.\n",
    "                    collisions[agent_tuple].end_time = t\n",
    "        \n",
    "        \n",
    "        print(f\"Attempted collision simulation number {_} iteration number {t}.\")\n",
    "        clear_output(wait=True)\n",
    "          \n",
    "    if collisions: \n",
    "        #If a collision is detected, cease attempting more simulations\n",
    "        break\n",
    "\n",
    "print(collisions)"
   ]
  },
  {
   "cell_type": "code",
   "execution_count": null,
   "metadata": {
    "id": "YQ4dXaKQNdvZ"
   },
   "outputs": [],
   "source": [
    "blame_responses = []\n",
    "for colliding_agents, collision_data in collisions.items():\n",
    "    blame_response = iai.blame(\n",
    "        location=location,\n",
    "        colliding_agents=colliding_agents,\n",
    "        agent_state_history=agent_state_history[:collision_data.start_time],\n",
    "        traffic_light_state_history=traffic_light_state_history[:collision_data.start_time],\n",
    "        agent_attributes=agent_attributes,\n",
    "        get_reasons=True,\n",
    "        get_confidence_score=True,\n",
    "        get_birdviews=False\n",
    "    )\n",
    "    print(blame_response.agents_at_fault)\n",
    "    blame_responses.append(blame_response)"
   ]
  },
  {
   "cell_type": "code",
   "execution_count": null,
   "metadata": {
    "id": "jRRaiLInNdvZ"
   },
   "outputs": [],
   "source": [
    "for response in blame_responses:\n",
    "    print(response.reasons)"
   ]
  },
  {
   "cell_type": "code",
   "execution_count": null,
   "metadata": {
    "id": "oZ79k112Ndva"
   },
   "outputs": [],
   "source": [
    "for response in blame_responses:\n",
    "    print(response.confidence_score)"
   ]
  },
  {
   "cell_type": "code",
   "execution_count": null,
   "metadata": {
    "id": "QzbqXvS7Ndva"
   },
   "outputs": [],
   "source": [
    "%%capture\n",
    "fig, ax = plt.subplots(constrained_layout=True, figsize=(50, 50))\n",
    "gif_name = 'blame-example.gif'\n",
    "scene_plotter.animate_scene(\n",
    "    output_name=gif_name,\n",
    "    ax=ax,\n",
    "    numbers=True,\n",
    "    direction_vec=False,\n",
    "    velocity_vec=False,\n",
    "    plot_frame_number=True\n",
    ")"
   ]
  },
  {
   "cell_type": "code",
   "execution_count": null,
   "metadata": {
    "id": "aUYCAHfsNdva"
   },
   "outputs": [],
   "source": [
    "Image(gif_name, width=1000, height=800)"
   ]
  },
  {
   "cell_type": "code",
   "execution_count": null,
   "metadata": {},
   "outputs": [],
   "source": []
  }
 ],
 "metadata": {
  "colab": {
   "provenance": []
  },
  "kernelspec": {
   "display_name": "Python 3 (ipykernel)",
   "language": "python",
   "name": "python3"
  },
  "language_info": {
   "codemirror_mode": {
    "name": "ipython",
    "version": 3
   },
   "file_extension": ".py",
   "mimetype": "text/x-python",
   "name": "python",
   "nbconvert_exporter": "python",
   "pygments_lexer": "ipython3",
   "version": "3.8.10"
  }
 },
 "nbformat": 4,
 "nbformat_minor": 1
}
