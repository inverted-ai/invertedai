{
 "cells": [
  {
   "cell_type": "markdown",
   "id": "5f5d6f84-22e8-4079-a0fc-7a7aaea4d511",
   "metadata": {},
   "source": [
    "![../docs/images/banner-small.png](../docs/images/banner-small.png)"
   ]
  },
  {
   "cell_type": "code",
   "execution_count": null,
   "id": "911445d4-8b61-49a1-9620-d1f3eb0c4199",
   "metadata": {},
   "outputs": [],
   "source": [
    "!pip install invertedai\n",
    "from IPython.display import display, Image, clear_output\n",
    "import matplotlib.pyplot as plt\n",
    "import imageio\n",
    "import numpy as np\n",
    "import cv2\n",
    "import invertedai as iai\n",
    "clear_output()"
   ]
  },
  {
   "cell_type": "code",
   "execution_count": null,
   "id": "069cf9cb-30eb-4378-b4f9-9cb7d9038620",
   "metadata": {},
   "outputs": [],
   "source": [
    "iai.add_apikey(\"\")\n",
    "location=\"CARLA:Town03:Roundabout\"\n",
    "simulation_length = 10"
   ]
  },
  {
   "cell_type": "code",
   "execution_count": null,
   "id": "94506da0-9a15-4dc0-9d57-5ac30bc36d72",
   "metadata": {},
   "outputs": [],
   "source": [
    "fig, ax = plt.subplots(constrained_layout=True, figsize=(5, 5))\n",
    "ax.set_axis_off()\n",
    "response = iai.initialize(\n",
    "    location=location,\n",
    "    agent_count=10,\n",
    "    batch_size=1,\n",
    "    min_speed=10,\n",
    "    max_speed=20,\n",
    ")\n",
    "agent_attributes = response[\"attributes\"]\n",
    "frames = []\n",
    "for t in range(simulation_length):\n",
    "    response = iai.drive(\n",
    "        agent_attributes=agent_attributes,\n",
    "        states=response[\"states\"],\n",
    "        recurrent_states=response[\"recurrent_states\"],\n",
    "        get_birdviews=True,\n",
    "        location=location,\n",
    "        steps=1,\n",
    "        exclude_ego_agent=1\n",
    "    )\n",
    "    frames.append(cv2.imdecode(np.array(response[\"bird_view\"], dtype=np.uint8), cv2.IMREAD_COLOR))\n",
    "    ax.imshow(frames[-1])\n",
    "    display(plt.gcf())\n",
    "    clear_output(wait=True)    "
   ]
  },
  {
   "cell_type": "code",
   "execution_count": null,
   "id": "2c689647-4a87-4bef-8723-785424b6356c",
   "metadata": {},
   "outputs": [],
   "source": [
    "imageio.mimsave(\"iai-drive.gif\", np.array(frames), format=\"GIF-PIL\")\n",
    "Image(open('iai-drive.gif','rb').read())"
   ]
  },
  {
   "cell_type": "code",
   "execution_count": null,
   "id": "1a68ab48-682a-4ed7-accf-5021f30105da",
   "metadata": {},
   "outputs": [],
   "source": []
  }
 ],
 "metadata": {
  "kernelspec": {
   "display_name": "Python 3 (ipykernel)",
   "language": "python",
   "name": "python3"
  },
  "language_info": {
   "codemirror_mode": {
    "name": "ipython",
    "version": 3
   },
   "file_extension": ".py",
   "mimetype": "text/x-python",
   "name": "python",
   "nbconvert_exporter": "python",
   "pygments_lexer": "ipython3",
   "version": "3.8.0"
  }
 },
 "nbformat": 4,
 "nbformat_minor": 5
}
