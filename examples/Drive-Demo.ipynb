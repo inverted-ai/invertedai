{
 "cells": [
  {
   "cell_type": "markdown",
   "id": "5f5d6f84-22e8-4079-a0fc-7a7aaea4d511",
   "metadata": {},
   "source": [
    "![../docs/images/banner-small.png](../docs/images/banner-small.png)"
   ]
  },
  {
   "cell_type": "code",
   "execution_count": null,
   "id": "911445d4-8b61-49a1-9620-d1f3eb0c4199",
   "metadata": {},
   "outputs": [],
   "source": [
    "%matplotlib widget\n",
    "# import sys\n",
    "# sys.path.append('../')\n",
    "from IPython.display import clear_output\n",
    "from invertedai import Jupyter_Render\n",
    "import numpy as np\n",
    "import cv2\n",
    "import invertedai as iai\n",
    "clear_output()"
   ]
  },
  {
   "cell_type": "code",
   "execution_count": null,
   "id": "069cf9cb-30eb-4378-b4f9-9cb7d9038620",
   "metadata": {},
   "outputs": [],
   "source": [
    "iai.add_apikey(\"\")\n",
    "location=\"CARLA:Town03:Roundabout\"\n",
    "simulation_length = 100\n",
    "renderer = Jupyter_Render()\n",
    "display(renderer)"
   ]
  },
  {
   "cell_type": "code",
   "execution_count": null,
   "id": "d01de31c",
   "metadata": {},
   "outputs": [],
   "source": [
    "rendered_map = iai.get_map(location=location)['rendered_map']\n",
    "rendered_map = cv2.imdecode(np.array(rendered_map, dtype=np.uint8), cv2.IMREAD_COLOR)\n",
    "renderer.add_frame(rendered_map)"
   ]
  },
  {
   "cell_type": "code",
   "execution_count": null,
   "id": "94506da0-9a15-4dc0-9d57-5ac30bc36d72",
   "metadata": {},
   "outputs": [],
   "source": [
    "response = iai.initialize(\n",
    "    location=location,\n",
    "    agent_count=10,\n",
    "    batch_size=1\n",
    ")\n",
    "agent_attributes = response[\"attributes\"]\n",
    "frames = []\n",
    "for t in range(simulation_length):\n",
    "    response = iai.drive(\n",
    "        agent_attributes=agent_attributes,\n",
    "        states=response[\"states\"],\n",
    "        recurrent_states=response[\"recurrent_states\"],\n",
    "        get_birdviews=True,\n",
    "        location=location,\n",
    "        steps=1,\n",
    "        exclude_ego_agent=1,\n",
    "        traffic_states_id=response[\"traffic_states_id\"],\n",
    "        present_mask=response.get('present_mask')\n",
    "    )\n",
    "    birdview = cv2.imdecode(np.array(response[\"bird_view\"], dtype=np.uint8), cv2.IMREAD_COLOR)\n",
    "    renderer.add_frame(birdview)"
   ]
  },
  {
   "cell_type": "code",
   "execution_count": null,
   "id": "cd7f84c7",
   "metadata": {},
   "outputs": [],
   "source": []
  },
  {
   "cell_type": "code",
   "execution_count": null,
   "id": "a3bf2388",
   "metadata": {},
   "outputs": [],
   "source": []
  }
 ],
 "metadata": {
  "kernelspec": {
   "display_name": "Python 3 (ipykernel)",
   "language": "python",
   "name": "python3"
  },
  "language_info": {
   "codemirror_mode": {
    "name": "ipython",
    "version": 3
   },
   "file_extension": ".py",
   "mimetype": "text/x-python",
   "name": "python",
   "nbconvert_exporter": "python",
   "pygments_lexer": "ipython3",
   "version": "3.8.10"
  }
 },
 "nbformat": 4,
 "nbformat_minor": 5
}
