{
 "cells": [
  {
   "cell_type": "markdown",
   "id": "5f5d6f84-22e8-4079-a0fc-7a7aaea4d511",
   "metadata": {},
   "source": [
    "![../../docs/images/banner-small.png](../../docs/images/banner-small.png)"
   ]
  },
  {
   "cell_type": "code",
   "execution_count": 1,
   "id": "911445d4-8b61-49a1-9620-d1f3eb0c4199",
   "metadata": {},
   "outputs": [],
   "source": [
    "%matplotlib widget\n",
    "from IPython.display import clear_output\n",
    "from utils import CarlaEnv, CarlaSimulationConfig\n",
    "import numpy as np\n",
    "from dotenv import load_dotenv\n",
    "import pygame\n",
    "import os\n",
    "import sys\n",
    "import torch\n",
    "import cv2\n",
    "load_dotenv()\n",
    "if os.environ.get(\"DEV\", False):\n",
    "    sys.path.append(\"../..\")\n",
    "else:\n",
    "    !pip install invertedai_drive\n",
    "from invertedai_drive import Drive, Config, Jupyter_Render\n",
    "clear_output()"
   ]
  },
  {
   "cell_type": "code",
   "execution_count": 2,
   "id": "069cf9cb-30eb-4378-b4f9-9cb7d9038620",
   "metadata": {},
   "outputs": [
    {
     "data": {
      "application/vnd.jupyter.widget-view+json": {
       "model_id": "38dabf0c45024cd58bf95a959bbf2ca6",
       "version_major": 2,
       "version_minor": 0
      },
      "text/plain": [
       "Jupyter_Render(children=(HBox(children=(Play(value=0, description='Press play', max=0), IntSlider(value=0, des…"
      ]
     },
     "metadata": {},
     "output_type": "display_data"
    },
    {
     "data": {
      "application/vnd.jupyter.widget-view+json": {
       "model_id": "1e1d936d27aa43368e89915038a191bb",
       "version_major": 2,
       "version_minor": 0
      },
      "image/png": "[encoded data removed]",
      "text/html": [
       "\n",
       "            <div style=\"display: inline-block;\">\n",
       "                <div class=\"jupyter-widgets widget-label\" style=\"text-align: center;\">\n",
       "                    Figure\n",
       "                </div>\n",
       "                <img src='data:image/png;base64,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' width=500.0/>\n",
       "            </div>\n",
       "        "
      ],
      "text/plain": [
       "Canvas(toolbar=Toolbar(toolitems=[('Home', 'Reset original view', 'home', 'home'), ('Back', 'Back to previous …"
      ]
     },
     "metadata": {},
     "output_type": "display_data"
    }
   ],
   "source": [
    "scene_name = \"CARLA:Town03:Roundabout\"\n",
    "agent_count = 50\n",
    "episode_lenght = 30\n",
    "\n",
    "iai_cfg = Config(location=scene_name, simulator=\"CARLA\", agent_count=agent_count)\n",
    "carla_cfg = CarlaSimulationConfig(scene_name=scene_name, episode_lenght=episode_lenght)\n",
    "renderer = Jupyter_Render()\n",
    "display(renderer)"
   ]
  },
  {
   "cell_type": "code",
   "execution_count": null,
   "id": "94506da0-9a15-4dc0-9d57-5ac30bc36d72",
   "metadata": {},
   "outputs": [
    {
     "name": "stderr",
     "output_type": "stream",
     "text": [
      "WARNING: Version mismatch detected: You are trying to connect to a simulator that might be incompatible with this API \n",
      "WARNING: Client API version     = 0.9.13 \n",
      "WARNING: Simulator API version  = a1b37f7f \n"
     ]
    },
    {
     "name": "stdout",
     "output_type": "stream",
     "text": [
      "Cannot spawn NPC at:Transform(Location(x=-55.049702, y=0.545833, z=0.275307), Rotation(pitch=0.000000, yaw=1.666941, roll=0.000000))\n"
     ]
    }
   ],
   "source": [
    "drive = Drive(iai_cfg)\n",
    "response = drive.initialize()\n",
    "initial_states = response[\"states\"][0] # Batch Size = 1\n",
    "\n",
    "sim = CarlaEnv(cfg=carla_cfg, initial_states=initial_states, ego_spawn_point=\"demo\")\n",
    "# sim = CarlaEnv(cfg=carla_cfg) # Initial states from Carla\n",
    "states, recurrent_states, dimensions = sim.reset()\n",
    "clock = pygame.time.Clock()\n",
    "frames = []\n",
    "\n",
    "for i in range(carla_cfg.episode_lenght * carla_cfg.fps):\n",
    "    response = drive.run(\n",
    "        agent_attributes=torch.tensor(dimensions).unsqueeze(0).tolist(),\n",
    "        states=torch.tensor(states).unsqueeze(0).tolist(),\n",
    "        recurrent_states=torch.tensor(recurrent_states).unsqueeze(0).tolist(),\n",
    "        return_birdviews=True,\n",
    "    )\n",
    "    states, recurrent_states, dimensions = sim.step(npcs=response, ego=\"autopilot\")\n",
    "\n",
    "    clock.tick_busy_loop(carla_cfg.fps)\n",
    "    birdview = cv2.imdecode(np.array(response[\"bird_view\"], dtype=np.uint8), cv2.IMREAD_COLOR)\n",
    "    renderer.add_frame(birdview)\n",
    "clear_output()"
   ]
  },
  {
   "cell_type": "code",
   "execution_count": 5,
   "id": "adaf461b-b846-40bc-835d-171466aaf508",
   "metadata": {},
   "outputs": [],
   "source": [
    "sim.destroy()"
   ]
  },
  {
   "cell_type": "code",
   "execution_count": null,
   "id": "f0e7e2f5-13d1-484f-9629-faed4cb32c53",
   "metadata": {},
   "outputs": [],
   "source": []
  }
 ],
 "metadata": {
  "kernelspec": {
   "display_name": "Python 3 (ipykernel)",
   "language": "python",
   "name": "python3"
  },
  "language_info": {
   "codemirror_mode": {
    "name": "ipython",
    "version": 3
   },
   "file_extension": ".py",
   "mimetype": "text/x-python",
   "name": "python",
   "nbconvert_exporter": "python",
   "pygments_lexer": "ipython3",
   "version": "3.8.10"
  }
 },
 "nbformat": 4,
 "nbformat_minor": 5
}
