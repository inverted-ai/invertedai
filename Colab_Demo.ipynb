{
 "cells": [
  {
   "cell_type": "markdown",
   "id": "5f5d6f84-22e8-4079-a0fc-7a7aaea4d511",
   "metadata": {},
   "source": [
    "![docs/images/banner-small.png](docs/images/banner-small.png)"
   ]
  },
  {
   "cell_type": "code",
   "execution_count": 1,
   "id": "911445d4-8b61-49a1-9620-d1f3eb0c4199",
   "metadata": {},
   "outputs": [],
   "source": [
    "!pip install invertedai_drive\n",
    "%matplotlib widget\n",
    "from invertedai_drive import drive\n",
    "import numpy as np\n",
    "import cv2\n",
    "from IPython.display import clear_output\n",
    "clear_output()"
   ]
  },
  {
   "cell_type": "code",
   "execution_count": null,
   "id": "dbb6102c-a3a3-4929-8ed5-092d4ecb3fdc",
   "metadata": {},
   "outputs": [],
   "source": [
    "# Colab Compatible Custom Widget\n",
    "import numpy as np\n",
    "import matplotlib.pyplot as plt\n",
    "import ipywidgets as widgets\n",
    "class colab_render(widgets.HBox):\n",
    "    def __init__(self):\n",
    "        super().__init__()\n",
    "        output = widgets.Output()\n",
    "        self.buffer = [np.zeros([128, 128, 3], dtype=np.uint8)]\n",
    "\n",
    "        with output:\n",
    "            self.fig, self.ax = plt.subplots(constrained_layout=True, figsize=(5, 5))\n",
    "        self.im = self.ax.imshow(self.buffer[0])\n",
    "        self.ax.set_axis_off()\n",
    "\n",
    "        self.fig.canvas.toolbar_position = \"bottom\"\n",
    "\n",
    "        self.max = 0\n",
    "        # define widgets\n",
    "        self.play = widgets.Play(\n",
    "            value=0,\n",
    "            min=0,\n",
    "            max=self.max,\n",
    "            step=1,\n",
    "            description=\"Press play\",\n",
    "            disabled=False,\n",
    "        )\n",
    "        self.int_slider = widgets.IntSlider(\n",
    "            value=0, min=0, max=self.max, step=1, description=\"Frame\"\n",
    "        )\n",
    "\n",
    "        controls = widgets.HBox(\n",
    "            [\n",
    "                self.play,\n",
    "                self.int_slider,\n",
    "            ]\n",
    "        )\n",
    "        controls.layout = self._make_box_layout()\n",
    "        widgets.jslink((self.play, \"value\"), (self.int_slider, \"value\"))\n",
    "        output.layout = self._make_box_layout()\n",
    "\n",
    "        self.int_slider.observe(self.update, \"value\")\n",
    "        self.children = [controls, output]\n",
    "\n",
    "    def update(self, change):\n",
    "        self.im.set_data(self.buffer[self.int_slider.value])\n",
    "        self.fig.canvas.draw()\n",
    "\n",
    "    def add_frame(self, frame):\n",
    "        self.buffer.append(frame)\n",
    "        self.int_slider.max += 1\n",
    "        self.play.max += 1\n",
    "        self.int_slider.value = self.int_slider.max\n",
    "        self.play.value = self.play.max\n",
    "\n",
    "    def _make_box_layout():\n",
    "        return widgets.Layout(\n",
    "            border=\"solid 1px black\",\n",
    "            margin=\"0px 10px 10px 0px\",\n",
    "            padding=\"5px 5px 5px 5px\",\n",
    "        )\n"
   ]
  },
  {
   "cell_type": "code",
   "execution_count": 5,
   "id": "069cf9cb-30eb-4378-b4f9-9cb7d9038620",
   "metadata": {},
   "outputs": [
    {
     "data": {
      "application/vnd.jupyter.widget-view+json": {
       "model_id": "aca88678c60f481d84a827f1cd025b9e",
       "version_major": 2,
       "version_minor": 0
      },
      "text/plain": [
       "jupyter_render(children=(HBox(children=(Play(value=0, description='Press play', max=0), IntSlider(value=0, des…"
      ]
     },
     "metadata": {},
     "output_type": "display_data"
    },
    {
     "data": {
      "application/vnd.jupyter.widget-view+json": {
       "model_id": "54458968aaec4fc6b6f341086e5f8923",
       "version_major": 2,
       "version_minor": 0
      },
      "image/png": "[encoded data removed]",
      "text/html": [
       "\n",
       "            <div style=\"display: inline-block;\">\n",
       "                <div class=\"jupyter-widgets widget-label\" style=\"text-align: center;\">\n",
       "                    Figure\n",
       "                </div>\n",
       "                <img src='data:image/png;base64,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' width=500.0/>\n",
       "            </div>\n",
       "        "
      ],
      "text/plain": [
       "Canvas(toolbar=Toolbar(toolitems=[('Home', 'Reset original view', 'home', 'home'), ('Back', 'Back to previous …"
      ]
     },
     "metadata": {},
     "output_type": "display_data"
    }
   ],
   "source": [
    "config = drive.config(\n",
    "    api_key=\"\",\n",
    "    location=\"\",\n",
    "    agent_count=10,\n",
    "    batch_size=1,\n",
    "    obs_length=1,\n",
    "    step_times=1,\n",
    "    min_speed=10,\n",
    "    max_speed=20,\n",
    ")\n",
    "simulation_lenght = 50\n",
    "renderer = colab_render()\n",
    "display(renderer)"
   ]
  },
  {
   "cell_type": "code",
   "execution_count": 6,
   "id": "94506da0-9a15-4dc0-9d57-5ac30bc36d72",
   "metadata": {},
   "outputs": [],
   "source": [
    "response = drive.initialize(config)\n",
    "agent_attributes = response[\"attributes\"]\n",
    "frames = []\n",
    "for t in range(simulation_lenght):\n",
    "    response = drive.run(\n",
    "        config=config,\n",
    "        location=config.location,\n",
    "        agent_attributes=agent_attributes,\n",
    "        states=response[\"states\"],\n",
    "        recurrent_states=response[\"recurrent_states\"],\n",
    "        return_birdviews=True,\n",
    "    )\n",
    "    birdview = cv2.imdecode(np.array(response[\"bird_view\"], dtype=np.uint8), cv2.IMREAD_COLOR)\n",
    "    renderer.add_frame(birdview)"
   ]
  }
 ],
 "metadata": {
  "kernelspec": {
   "display_name": "Python 3 (ipykernel)",
   "language": "python",
   "name": "python3"
  },
  "language_info": {
   "codemirror_mode": {
    "name": "ipython",
    "version": 3
   },
   "file_extension": ".py",
   "mimetype": "text/x-python",
   "name": "python",
   "nbconvert_exporter": "python",
   "pygments_lexer": "ipython3",
   "version": "3.8.10"
  }
 },
 "nbformat": 4,
 "nbformat_minor": 5
}
